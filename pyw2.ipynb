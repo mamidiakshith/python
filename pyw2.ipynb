{
 "cells": [
  {
   "cell_type": "code",
   "execution_count": 23,
   "id": "d1de5088-3251-4a42-bd85-90a2ea727621",
   "metadata": {},
   "outputs": [
    {
     "name": "stdout",
     "output_type": "stream",
     "text": [
      "\n",
      "5 \n",
      "4 4 \n",
      "3 3 3 \n",
      "2 2 2 2 \n",
      "1 1 1 1 1 \n"
     ]
    }
   ],
   "source": [
    "for i in range(6):\n",
    "    for j in range(6):\n",
    "        if i>j:\n",
    "            print(6-i,end=' ')\n",
    "    print('')\n",
    "        "
   ]
  },
  {
   "cell_type": "code",
   "execution_count": 41,
   "id": "8d370e73-80c1-469a-9528-b7c63e8e47be",
   "metadata": {},
   "outputs": [
    {
     "name": "stdin",
     "output_type": "stream",
     "text": [
      " eghif\n"
     ]
    },
    {
     "name": "stdout",
     "output_type": "stream",
     "text": [
      "eghif is lower word\n"
     ]
    }
   ],
   "source": [
    "a=input()\n",
    "if a.isupper() :\n",
    "    print(f\"{a} is capital word\")\n",
    "elif a.isdigit() :\n",
    "    print(f\"{a} is number\")\n",
    "elif a.islower() :\n",
    "    print(f\"{a} is lower word\")\n",
    "else :\n",
    "    print(\"error\")"
   ]
  },
  {
   "cell_type": "code",
   "execution_count": 63,
   "id": "4913667c-b637-4e72-b574-430d6409940b",
   "metadata": {},
   "outputs": [
    {
     "name": "stdin",
     "output_type": "stream",
     "text": [
      "Enter the number of terms:  20\n"
     ]
    },
    {
     "name": "stdout",
     "output_type": "stream",
     "text": [
      "0 1 1 2 3 5 8 13 21 34 55 89 144 233 377 610 987 1597 2584 4181 "
     ]
    }
   ],
   "source": [
    "num_terms = int(input(\"Enter the number of terms: \"))\n",
    "a, b = 0, 1\n",
    "if num_terms <= 0:\n",
    "    print(\"Please enter a positive integer.\")\n",
    "elif num_terms == 1:\n",
    "    print(a)\n",
    "else:\n",
    "    print(a, b, end=' ')  \n",
    "    for i in range(2, num_terms):\n",
    "        next_term = a + b\n",
    "        print(next_term, end=' ')\n",
    "        a, b = b, next_term"
   ]
  },
  {
   "cell_type": "code",
   "execution_count": 79,
   "id": "da5bbec5-0c0d-4358-b466-df1bfec021dd",
   "metadata": {},
   "outputs": [
    {
     "name": "stdin",
     "output_type": "stream",
     "text": [
      "Enter the start of the interval:  30\n",
      "Enter the end of the interval:  90\n"
     ]
    },
    {
     "name": "stdout",
     "output_type": "stream",
     "text": [
      "31\n",
      "37\n",
      "41\n",
      "43\n",
      "47\n",
      "53\n",
      "59\n",
      "61\n",
      "67\n",
      "71\n",
      "73\n",
      "79\n",
      "83\n",
      "89\n"
     ]
    }
   ],
   "source": [
    "start = int(input(\"Enter the start of the interval: \"))\n",
    "end = int(input(\"Enter the end of the interval: \"))\n",
    "\n",
    "for num in range(start, end + 1):\n",
    "    if num <= 1:\n",
    "        continue \n",
    "    \n",
    "   \n",
    "    is_prime = True\n",
    "    \n",
    "    for i in range(2, (num // 2) + 1):\n",
    "        if (num % i) == 0:\n",
    "            is_prime = False\n",
    "            break\n",
    "    \n",
    "    if is_prime:\n",
    "        print(num)\n",
    "    "
   ]
  },
  {
   "cell_type": "code",
   "execution_count": 85,
   "id": "dcc3d8aa-6470-4213-9ac3-bfa7afa01132",
   "metadata": {},
   "outputs": [
    {
     "name": "stdin",
     "output_type": "stream",
     "text": [
      "enter a number: 32\n",
      "enter a number: 64\n"
     ]
    },
    {
     "name": "stdout",
     "output_type": "stream",
     "text": [
      "64 is LCM\n"
     ]
    }
   ],
   "source": [
    "import math\n",
    "\n",
    "\n",
    "a=int(input(\"enter a number:\"))\n",
    "b=int(input(\"enter a number:\"))\n",
    "c=math.lcm(a,b)\n",
    "print(c,\"is LCM\")\n",
    "    "
   ]
  },
  {
   "cell_type": "code",
   "execution_count": null,
   "id": "988dc547-98e8-4ea8-8ac1-b479ebc46edd",
   "metadata": {},
   "outputs": [],
   "source": []
  }
 ],
 "metadata": {
  "kernelspec": {
   "display_name": "Python 3 (ipykernel)",
   "language": "python",
   "name": "python3"
  },
  "language_info": {
   "codemirror_mode": {
    "name": "ipython",
    "version": 3
   },
   "file_extension": ".py",
   "mimetype": "text/x-python",
   "name": "python",
   "nbconvert_exporter": "python",
   "pygments_lexer": "ipython3",
   "version": "3.12.4"
  }
 },
 "nbformat": 4,
 "nbformat_minor": 5
}
